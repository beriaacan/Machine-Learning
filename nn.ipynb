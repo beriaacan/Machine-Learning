{
  "nbformat": 4,
  "nbformat_minor": 0,
  "metadata": {
    "colab": {
      "provenance": [],
      "authorship_tag": "ABX9TyMa272k5RoWwnuiLH2jij9j",
      "include_colab_link": true
    },
    "kernelspec": {
      "name": "python3",
      "display_name": "Python 3"
    },
    "language_info": {
      "name": "python"
    }
  },
  "cells": [
    {
      "cell_type": "markdown",
      "metadata": {
        "id": "view-in-github",
        "colab_type": "text"
      },
      "source": [
        "<a href=\"https://colab.research.google.com/github/beriaacan/Machine-Learning-Algorithms/blob/main/nn.ipynb\" target=\"_parent\"><img src=\"https://colab.research.google.com/assets/colab-badge.svg\" alt=\"Open In Colab\"/></a>"
      ]
    },
    {
      "cell_type": "code",
      "execution_count": 5,
      "metadata": {
        "id": "OtlzeJHb5EIb"
      },
      "outputs": [],
      "source": [
        "import numpy as np\n",
        "import matplotlib.pyplot as plt\n",
        "from keras.datasets import mnist\n",
        "from keras.models import Sequential\n",
        "from keras.layers import Dense, Flatten\n",
        "from keras.utils import to_categorical\n"
      ]
    },
    {
      "cell_type": "code",
      "source": [
        "(X_train, y_train), (X_test, y_test) = mnist.load_data()"
      ],
      "metadata": {
        "id": "MUMqf3Sg7I4X"
      },
      "execution_count": 28,
      "outputs": []
    },
    {
      "cell_type": "markdown",
      "source": [
        "Bu bölüm, MNIST veri setini yükler ve verileri ağın girdisi olarak kullanıma hazır hale getirir"
      ],
      "metadata": {
        "id": "Em-KVgmH7Mlm"
      }
    },
    {
      "cell_type": "code",
      "source": [
        "# Normalize data\n",
        "size=28*28 # her bir görüntüyü, sinir ağının girdi katmanına uygun tek bir sıra halinde düzleştirir\n",
        "#veri türünü float32'ye dönüştürür. Bu, hesaplama sırasında daha fazla hassasiyet sağlar ve birçok derin öğrenme kütüphanesi tarafından tercih edilir.\n",
        "#her bir piksel değerini 255'e bölerek normalleştirir.\n",
        "# MNIST veri setindeki piksel değerleri 0 ile 255 arasındadır, bu yüzden bu adım her bir piksel değerini 0 ile 1 arasında bir aralığa ölçeklendirir.\n",
        "\n",
        "X_train = X_train.reshape(X_train.shape[0], size).astype('float32') / 255\n",
        "X_test = X_test.reshape(X_test.shape[0], size).astype('float32') / 255\n"
      ],
      "metadata": {
        "id": "tMmkrmJ-5HwT"
      },
      "execution_count": 29,
      "outputs": []
    },
    {
      "cell_type": "markdown",
      "source": [
        "Görüntüler piksel değerlerini içeren 28x28 boyutlu matrislerdir. Bu matrisler, her bir görüntüyü tek bir vektöre dönüştürmek için yeniden şekillendirilir (784 piksel).\n",
        "\n"
      ],
      "metadata": {
        "id": "2NOgBLSf6tlB"
      }
    },
    {
      "cell_type": "code",
      "source": [
        "# One-hot encoding\n",
        "y_train = to_categorical(y_train, 10)\n",
        "y_test = to_categorical(y_test, 10)\n"
      ],
      "metadata": {
        "id": "5drp7HK87WbG"
      },
      "execution_count": 30,
      "outputs": []
    },
    {
      "cell_type": "markdown",
      "source": [
        "Piksel değerleri 0 ile 1 arasında olacak şekilde normalize edilir. Etiketler (y_train, y_test), her rakam için one-hot encoding kullanılarak dönüştürülür.\n",
        "\n",
        "ör: Örneğin, rakam \"5\" için one-hot encoded vektör [0, 0, 0, 0, 0, 1, 0, 0, 0, 0]"
      ],
      "metadata": {
        "id": "EKz04m4K7ZBF"
      }
    },
    {
      "cell_type": "code",
      "source": [
        "model = Sequential() #Keras'ta katmanların sırayla (ardışık olarak) eklenmesini sağlar.\n",
        "model.add(Flatten(input_shape=(784,)))\n",
        "#Flatten katmanı, girdi verilerini düz bir vektöre dönüştürür.\n",
        "#Bu durumda, input_shape=(784,) parametresi, girdi verilerinin her birinin 784 öğeli (28x28 piksellik bir görüntüyü düzleştirmek gibi) olduğunu belirtir.\n",
        "#Bu, modelin, 2D görüntü verilerini işleyebilmesi için gereklidir.\n",
        "\n",
        "\n",
        "model.add(Dense(10, activation='relu'))\n",
        "\n",
        "#Bu satırda Dense katmanı eklenir. Bu, tam bağlantılı (fully connected) bir katmandır.\n",
        "# 10 parametresi, katmandaki nöron sayısını belirtir.\n",
        "#ReLU, genellikle gizli katmanlarda kullanılan popüler bir aktivasyon fonksiyonudur ve lineer olmayan özellikleri modellemeye yardımcı olur.\n",
        "\n",
        "model.add(Dense(10, activation='softmax'))\n",
        "\n",
        "# ikinci Dense katmanı, modelin çıkış katmanıdır. Burada yine 10 nöron kullanılır, bu da MNIST veri setindeki 10 farklı rakamı (0'dan 9'a) temsil eder.\n",
        "# activation='softmax' parametresi, softmax aktivasyon fonksiyonunu belirtir.\n",
        "# Softmax, çok sınıflı sınıflandırma görevlerinde yaygın olarak kullanılır ve her bir sınıf için olasılık dağılımı üretir,\n",
        "# böylece modelin tahminleri, toplamı 1'e eşit olan olasılık değerleri olarak yorumlanabilir.\n"
      ],
      "metadata": {
        "id": "oNdh86-Y5NxT"
      },
      "execution_count": 31,
      "outputs": []
    },
    {
      "cell_type": "markdown",
      "source": [
        "Bu model, MNIST veri setindeki el yazısı rakamlarını sınıflandırmak için kullanılabilir. Model, görüntüleri alır, onları düzleştirir, öğrenme işlemini gerçekleştirir ve son olarak, her bir rakamın olasılığını tahmin eder."
      ],
      "metadata": {
        "id": "B4CFF3x66_E6"
      }
    },
    {
      "cell_type": "code",
      "source": [
        "model.compile(loss='categorical_crossentropy', optimizer='adam', metrics=['accuracy'])\n"
      ],
      "metadata": {
        "id": "cYd18SmW5OWJ"
      },
      "execution_count": 32,
      "outputs": []
    },
    {
      "cell_type": "markdown",
      "source": [
        "Model, categorical_crossentropy kayıp fonksiyonu, adam optimize edici ve doğruluk metriği kullanılarak derlenir. Bu, eğitim sürecinin nasıl gerçekleşeceğini belirler.\n",
        "\n"
      ],
      "metadata": {
        "id": "wnFqSMWs7CCu"
      }
    },
    {
      "cell_type": "code",
      "source": [
        "model.fit(X_train, y_train, epochs=10, batch_size=32, verbose=2)\n"
      ],
      "metadata": {
        "colab": {
          "base_uri": "https://localhost:8080/"
        },
        "id": "TUIsoYKN5RnM",
        "outputId": "c7f37dfe-a238-4428-9dca-c581e9c5991d"
      },
      "execution_count": 33,
      "outputs": [
        {
          "output_type": "stream",
          "name": "stdout",
          "text": [
            "Epoch 1/10\n",
            "1875/1875 - 5s - loss: 0.4847 - accuracy: 0.8644 - 5s/epoch - 3ms/step\n",
            "Epoch 2/10\n",
            "1875/1875 - 3s - loss: 0.2833 - accuracy: 0.9211 - 3s/epoch - 2ms/step\n",
            "Epoch 3/10\n",
            "1875/1875 - 3s - loss: 0.2591 - accuracy: 0.9276 - 3s/epoch - 2ms/step\n",
            "Epoch 4/10\n",
            "1875/1875 - 3s - loss: 0.2445 - accuracy: 0.9303 - 3s/epoch - 2ms/step\n",
            "Epoch 5/10\n",
            "1875/1875 - 4s - loss: 0.2343 - accuracy: 0.9338 - 4s/epoch - 2ms/step\n",
            "Epoch 6/10\n",
            "1875/1875 - 3s - loss: 0.2251 - accuracy: 0.9363 - 3s/epoch - 2ms/step\n",
            "Epoch 7/10\n",
            "1875/1875 - 3s - loss: 0.2201 - accuracy: 0.9363 - 3s/epoch - 2ms/step\n",
            "Epoch 8/10\n",
            "1875/1875 - 3s - loss: 0.2141 - accuracy: 0.9380 - 3s/epoch - 2ms/step\n",
            "Epoch 9/10\n",
            "1875/1875 - 4s - loss: 0.2094 - accuracy: 0.9393 - 4s/epoch - 2ms/step\n",
            "Epoch 10/10\n",
            "1875/1875 - 3s - loss: 0.2053 - accuracy: 0.9403 - 3s/epoch - 2ms/step\n"
          ]
        },
        {
          "output_type": "execute_result",
          "data": {
            "text/plain": [
              "<keras.src.callbacks.History at 0x7aa585831810>"
            ]
          },
          "metadata": {},
          "execution_count": 33
        }
      ]
    },
    {
      "cell_type": "markdown",
      "source": [
        "Model, eğitim veri seti üzerinde 10 epoch boyunca eğitilir. Her epoch, veri setinin tamamının modele sunulduğu bir döngüdür. batch_size=32 her adımda 32 örnek kullanılacağını belirtir."
      ],
      "metadata": {
        "id": "35QIzk_i7Eqb"
      }
    },
    {
      "cell_type": "code",
      "source": [
        "loss, accuracy = model.evaluate(X_test, y_test, verbose=2)\n",
        "print('Test accuracy:', accuracy)\n"
      ],
      "metadata": {
        "colab": {
          "base_uri": "https://localhost:8080/"
        },
        "id": "MER67fm_5TAw",
        "outputId": "1ef06581-a47a-43ec-b0ec-e505724f0cd4"
      },
      "execution_count": 34,
      "outputs": [
        {
          "output_type": "stream",
          "name": "stdout",
          "text": [
            "313/313 - 1s - loss: 0.2265 - accuracy: 0.9362 - 899ms/epoch - 3ms/step\n",
            "Test accuracy: 0.9362000226974487\n"
          ]
        }
      ]
    },
    {
      "cell_type": "code",
      "source": [
        "index = 100\n",
        "test_number = X_test[index]\n",
        "test_number_true_label = np.argmax(y_test[index])\n",
        "prediction = model.predict(test_number.reshape(1, 784))\n",
        "predicted_label = np.argmax(prediction)\n",
        "\n",
        "print(\"Prediction: \", predicted_label)\n",
        "print(\"Label: \", test_number_true_label)\n",
        "\n",
        "test_image = test_number.reshape((28, 28))*255\n",
        "plt.gray()\n",
        "plt.imshow(test_image, interpolation='nearest')\n",
        "plt.show()\n"
      ],
      "metadata": {
        "colab": {
          "base_uri": "https://localhost:8080/",
          "height": 482
        },
        "id": "rmTPZpEj5UWN",
        "outputId": "1d4fbe71-3475-49c0-e0d9-1eb6d84da737"
      },
      "execution_count": 35,
      "outputs": [
        {
          "output_type": "stream",
          "name": "stdout",
          "text": [
            "1/1 [==============================] - 0s 81ms/step\n",
            "Prediction:  6\n",
            "Label:  6\n"
          ]
        },
        {
          "output_type": "display_data",
          "data": {
            "text/plain": [
              "<Figure size 640x480 with 1 Axes>"
            ],
            "image/png": "[encoded data removed]"
          },
          "metadata": {}
        }
      ]
    }
  ]
}