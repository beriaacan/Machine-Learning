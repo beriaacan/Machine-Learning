{
 "cells": [
  {
   "cell_type": "markdown",
   "id": "46e23a63",
   "metadata": {},
   "source": [
    "# Jupyter Notebook Basics\n",
    "\n",
    "- [Jupyter webpage](https://jupyter.org/)\n",
    "- [Documentation](https://jupyter-notebook.readthedocs.io/en/stable/notebook.html)\n",
    "\n",
    "- Extension Name: .ipynb\n",
    "- Format: [JSON](https://en.wikipedia.org/wiki/JSON)   \n",
    "\n",
    "\n",
    "## Markdown (a [markup language](https://en.wikipedia.org/wiki/Markup_language) )\n",
    "\n",
    "- [Markdown general info](https://en.wikipedia.org/wiki/Markdown)\n",
    "- [Markdown guide](https://www.markdownguide.org/)\n",
    "\n",
    "\n",
    "## <span style=\"color:red\">Keyboard Shortcuts</span>\n",
    "\n",
    "- Cell box in color green: Edit mode\n",
    "- Cell box in color blue: Command mode\n",
    "\n",
    "Note: In command mode press h for shortcuts\n",
    "\n",
    "\n",
    "### Edit mode\n",
    "    \n",
    "- Add new cell above: ESC+A\n",
    "- Add new cell below: ESC+B \n",
    "\n",
    "- Change cell to code: ESC+Y \n",
    "- Change cell to markdown: ESC+M\n",
    "\n",
    "- Run cell: Shift+Enter, Ctrl+Enter\n",
    "- Edit cell: Double Click\n",
    "\n",
    "### Command mode\n",
    "\n",
    "- Scroll up and down using Up and Down keys\n",
    "\n",
    "- Add new cell above: A\n",
    "- Add new cell below: B \n",
    "\n",
    "- Code: Y \n",
    "- Markdown: M\n",
    "\n",
    "- Run Cell: Shift+Enter, Ctrl+Enter\n",
    "- Edit cell: Double Click\n",
    "\n",
    "- Shift + up down keys multiple cell selection.\n",
    "\n",
    "\n",
    "## Resetting\n",
    "\n",
    "### [Kernel](https://docs.jupyter.org/en/latest/projects/kernels.html) menu\n",
    "\n",
    "- Restart\n",
    "- Restart & Clear Output\n",
    "- Restart & Run All\n",
    "\n",
    "\n",
    "## [Latex](https://en.wikipedia.org/wiki/LaTeX) \n",
    "\n",
    "$E = mc^{2}$ \n",
    "\n",
    "$$E = mc^{2}$$ \n",
    "\n",
    "\n",
    "## Table\n",
    "\n",
    "|Header 1 | Header 2 |\n",
    "|---------|----------|\n",
    "|data 1   | data 2   |\n",
    "\n",
    "\n",
    "## Download\n",
    "\n",
    "- You can download the notebook using **Dowload as** option listed in the **File** menu in different formats. \n",
    "\n",
    "\n",
    "## Example Notebooks\n",
    "\n",
    "https://github.com/Carreau/ipython-wiki/blob/master/A-gallery-of-interesting-IPython-Notebooks.md\n"
   ]
  },
  {
   "cell_type": "markdown",
   "id": "6441d513",
   "metadata": {},
   "source": [
    "## Executing shell commands "
   ]
  },
  {
   "cell_type": "code",
   "execution_count": 21,
   "id": "017bb3c6",
   "metadata": {},
   "outputs": [
    {
     "name": "stdout",
     "output_type": "stream",
     "text": [
      "data\t\t\t\t      pandas.ipynb\r\n",
      "data-20230922T110052Z-001.zip\t      plot_against_one_column.ipynb\r\n",
      "iris.ipynb\t\t\t      python_conditions_loops.ipynb\r\n",
      "jupyter_notebook_python_basics.ipynb  python_functions.ipynb\r\n",
      "matplotlib.ipynb\t\t      read_write_file.ipynb\r\n",
      "numpy.ipynb\t\t\t      stats_info.csv\r\n"
     ]
    }
   ],
   "source": [
    "!ls"
   ]
  },
  {
   "cell_type": "code",
   "execution_count": 23,
   "id": "5bd64370",
   "metadata": {},
   "outputs": [
    {
     "name": "stdout",
     "output_type": "stream",
     "text": [
      "/home/sinem/Desktop/437E/codes\r\n"
     ]
    }
   ],
   "source": [
    "!pwd"
   ]
  },
  {
   "cell_type": "markdown",
   "id": "a6f8fc09",
   "metadata": {},
   "source": [
    "## [Magic commands](https://ipython.readthedocs.io/en/stable/interactive/magics.html)"
   ]
  },
  {
   "cell_type": "code",
   "execution_count": null,
   "id": "83f34f29",
   "metadata": {},
   "outputs": [],
   "source": [
    "%automagic"
   ]
  },
  {
   "cell_type": "code",
   "execution_count": 6,
   "id": "987891f0",
   "metadata": {},
   "outputs": [
    {
     "name": "stdout",
     "output_type": "stream",
     "text": [
      "\u001b[0m\u001b[01;34mdata\u001b[0m/                                 pandas.ipynb\r\n",
      "\u001b[01;31mdata-20230922T110052Z-001.zip\u001b[0m         plot_against_one_column.ipynb\r\n",
      "iris.ipynb                            python_conditions_loops.ipynb\r\n",
      "jupyter_notebook_python_basics.ipynb  python_functions.ipynb\r\n",
      "matplotlib.ipynb                      read_write_file.ipynb\r\n",
      "numpy.ipynb                           stats_info.csv\r\n"
     ]
    }
   ],
   "source": [
    "%ls\n",
    "# Shift + Tab"
   ]
  },
  {
   "cell_type": "code",
   "execution_count": 8,
   "id": "30c9bca8",
   "metadata": {},
   "outputs": [
    {
     "data": {
      "text/plain": [
       "'/home/sinem/Desktop/437E/codes'"
      ]
     },
     "execution_count": 8,
     "metadata": {},
     "output_type": "execute_result"
    }
   ],
   "source": [
    "%pwd"
   ]
  },
  {
   "cell_type": "code",
   "execution_count": 9,
   "id": "e27a6bb3",
   "metadata": {},
   "outputs": [
    {
     "name": "stdout",
     "output_type": "stream",
     "text": [
      "\u001b[0m\u001b[01;34mdata\u001b[0m/                                 pandas.ipynb\r\n",
      "\u001b[01;31mdata-20230922T110052Z-001.zip\u001b[0m         plot_against_one_column.ipynb\r\n",
      "iris.ipynb                            python_conditions_loops.ipynb\r\n",
      "jupyter_notebook_python_basics.ipynb  python_functions.ipynb\r\n",
      "matplotlib.ipynb                      read_write_file.ipynb\r\n",
      "numpy.ipynb                           stats_info.csv\r\n"
     ]
    }
   ],
   "source": [
    "%ls"
   ]
  },
  {
   "cell_type": "code",
   "execution_count": 10,
   "id": "6fa8a24e",
   "metadata": {},
   "outputs": [
    {
     "data": {
      "text/plain": [
       "'/home/sinem/Desktop/437E/codes'"
      ]
     },
     "execution_count": 10,
     "metadata": {},
     "output_type": "execute_result"
    }
   ],
   "source": [
    "%pwd"
   ]
  },
  {
   "cell_type": "code",
   "execution_count": 11,
   "id": "b5768a68",
   "metadata": {},
   "outputs": [
    {
     "name": "stdout",
     "output_type": "stream",
     "text": [
      "/home/sinem/Desktop/437E/codes/data\n"
     ]
    }
   ],
   "source": [
    "%cd data"
   ]
  },
  {
   "cell_type": "code",
   "execution_count": 12,
   "id": "41c1356f",
   "metadata": {},
   "outputs": [
    {
     "data": {
      "text/plain": [
       "'/home/sinem/Desktop/437E/codes/data'"
      ]
     },
     "execution_count": 12,
     "metadata": {},
     "output_type": "execute_result"
    }
   ],
   "source": [
    "%pwd"
   ]
  },
  {
   "cell_type": "code",
   "execution_count": 14,
   "id": "4cbd40e8",
   "metadata": {},
   "outputs": [
    {
     "name": "stdout",
     "output_type": "stream",
     "text": [
      "\u001b[0m\u001b[01;34mbinaryblobs\u001b[0m/  deneme.xlsx  \u001b[01;34mhtru2\u001b[0m/  the_zen_of_python.txt\r\n",
      "colors.txt    hos.txt      \u001b[01;34miris\u001b[0m/   \u001b[01;34mwdbc\u001b[0m/\r\n"
     ]
    }
   ],
   "source": [
    "%ls"
   ]
  },
  {
   "cell_type": "code",
   "execution_count": 16,
   "id": "df63d8b8",
   "metadata": {},
   "outputs": [
    {
     "name": "stdout",
     "output_type": "stream",
     "text": [
      "/home/sinem/Desktop/437E/codes\n"
     ]
    }
   ],
   "source": [
    "%cd .."
   ]
  },
  {
   "cell_type": "code",
   "execution_count": 18,
   "id": "e02a974a",
   "metadata": {},
   "outputs": [
    {
     "data": {
      "application/json": {
       "cell": {
        "!": "OSMagics",
        "HTML": "Other",
        "SVG": "Other",
        "bash": "Other",
        "capture": "ExecutionMagics",
        "debug": "ExecutionMagics",
        "file": "Other",
        "html": "DisplayMagics",
        "javascript": "DisplayMagics",
        "js": "DisplayMagics",
        "latex": "DisplayMagics",
        "markdown": "DisplayMagics",
        "perl": "Other",
        "prun": "ExecutionMagics",
        "pypy": "Other",
        "python": "Other",
        "python2": "Other",
        "python3": "Other",
        "ruby": "Other",
        "script": "ScriptMagics",
        "sh": "Other",
        "svg": "DisplayMagics",
        "sx": "OSMagics",
        "system": "OSMagics",
        "time": "ExecutionMagics",
        "timeit": "ExecutionMagics",
        "writefile": "OSMagics"
       },
       "line": {
        "alias": "OSMagics",
        "alias_magic": "BasicMagics",
        "autoawait": "AsyncMagics",
        "autocall": "AutoMagics",
        "automagic": "AutoMagics",
        "autosave": "KernelMagics",
        "bookmark": "OSMagics",
        "cat": "Other",
        "cd": "OSMagics",
        "clear": "KernelMagics",
        "colors": "BasicMagics",
        "conda": "PackagingMagics",
        "config": "ConfigMagics",
        "connect_info": "KernelMagics",
        "cp": "Other",
        "debug": "ExecutionMagics",
        "dhist": "OSMagics",
        "dirs": "OSMagics",
        "doctest_mode": "BasicMagics",
        "ed": "Other",
        "edit": "KernelMagics",
        "env": "OSMagics",
        "gui": "BasicMagics",
        "hist": "Other",
        "history": "HistoryMagics",
        "killbgscripts": "ScriptMagics",
        "ldir": "Other",
        "less": "KernelMagics",
        "lf": "Other",
        "lk": "Other",
        "ll": "Other",
        "load": "CodeMagics",
        "load_ext": "ExtensionMagics",
        "loadpy": "CodeMagics",
        "logoff": "LoggingMagics",
        "logon": "LoggingMagics",
        "logstart": "LoggingMagics",
        "logstate": "LoggingMagics",
        "logstop": "LoggingMagics",
        "ls": "Other",
        "lsmagic": "BasicMagics",
        "lx": "Other",
        "macro": "ExecutionMagics",
        "magic": "BasicMagics",
        "man": "KernelMagics",
        "matplotlib": "PylabMagics",
        "mkdir": "Other",
        "more": "KernelMagics",
        "mv": "Other",
        "notebook": "BasicMagics",
        "page": "BasicMagics",
        "pastebin": "CodeMagics",
        "pdb": "ExecutionMagics",
        "pdef": "NamespaceMagics",
        "pdoc": "NamespaceMagics",
        "pfile": "NamespaceMagics",
        "pinfo": "NamespaceMagics",
        "pinfo2": "NamespaceMagics",
        "pip": "PackagingMagics",
        "popd": "OSMagics",
        "pprint": "BasicMagics",
        "precision": "BasicMagics",
        "prun": "ExecutionMagics",
        "psearch": "NamespaceMagics",
        "psource": "NamespaceMagics",
        "pushd": "OSMagics",
        "pwd": "OSMagics",
        "pycat": "OSMagics",
        "pylab": "PylabMagics",
        "qtconsole": "KernelMagics",
        "quickref": "BasicMagics",
        "recall": "HistoryMagics",
        "rehashx": "OSMagics",
        "reload_ext": "ExtensionMagics",
        "rep": "Other",
        "rerun": "HistoryMagics",
        "reset": "NamespaceMagics",
        "reset_selective": "NamespaceMagics",
        "rm": "Other",
        "rmdir": "Other",
        "run": "ExecutionMagics",
        "save": "CodeMagics",
        "sc": "OSMagics",
        "set_env": "OSMagics",
        "store": "StoreMagics",
        "sx": "OSMagics",
        "system": "OSMagics",
        "tb": "ExecutionMagics",
        "time": "ExecutionMagics",
        "timeit": "ExecutionMagics",
        "unalias": "OSMagics",
        "unload_ext": "ExtensionMagics",
        "who": "NamespaceMagics",
        "who_ls": "NamespaceMagics",
        "whos": "NamespaceMagics",
        "xdel": "NamespaceMagics",
        "xmode": "BasicMagics"
       }
      },
      "text/plain": [
       "Available line magics:\n",
       "%alias  %alias_magic  %autoawait  %autocall  %automagic  %autosave  %bookmark  %cat  %cd  %clear  %colors  %conda  %config  %connect_info  %cp  %debug  %dhist  %dirs  %doctest_mode  %ed  %edit  %env  %gui  %hist  %history  %killbgscripts  %ldir  %less  %lf  %lk  %ll  %load  %load_ext  %loadpy  %logoff  %logon  %logstart  %logstate  %logstop  %ls  %lsmagic  %lx  %macro  %magic  %man  %matplotlib  %mkdir  %more  %mv  %notebook  %page  %pastebin  %pdb  %pdef  %pdoc  %pfile  %pinfo  %pinfo2  %pip  %popd  %pprint  %precision  %prun  %psearch  %psource  %pushd  %pwd  %pycat  %pylab  %qtconsole  %quickref  %recall  %rehashx  %reload_ext  %rep  %rerun  %reset  %reset_selective  %rm  %rmdir  %run  %save  %sc  %set_env  %store  %sx  %system  %tb  %time  %timeit  %unalias  %unload_ext  %who  %who_ls  %whos  %xdel  %xmode\n",
       "\n",
       "Available cell magics:\n",
       "%%!  %%HTML  %%SVG  %%bash  %%capture  %%debug  %%file  %%html  %%javascript  %%js  %%latex  %%markdown  %%perl  %%prun  %%pypy  %%python  %%python2  %%python3  %%ruby  %%script  %%sh  %%svg  %%sx  %%system  %%time  %%timeit  %%writefile\n",
       "\n",
       "Automagic is OFF, % prefix IS needed for line magics."
      ]
     },
     "execution_count": 18,
     "metadata": {},
     "output_type": "execute_result"
    }
   ],
   "source": [
    "%lsmagic\n",
    "# line magics: valid for one line\n",
    "# cell magics: valid for the entire cell"
   ]
  },
  {
   "cell_type": "code",
   "execution_count": 19,
   "id": "78cac4fe",
   "metadata": {},
   "outputs": [],
   "source": [
    "# Detailed explanation\n",
    "%magic"
   ]
  },
  {
   "cell_type": "code",
   "execution_count": 26,
   "id": "e8770432",
   "metadata": {},
   "outputs": [],
   "source": [
    "%magic"
   ]
  },
  {
   "cell_type": "code",
   "execution_count": 24,
   "id": "2bad87e0",
   "metadata": {},
   "outputs": [
    {
     "name": "stdout",
     "output_type": "stream",
     "text": [
      "Writing notes.txt\n"
     ]
    }
   ],
   "source": [
    "%%writefile notes.txt\n",
    "magic command writefile"
   ]
  },
  {
   "cell_type": "code",
   "execution_count": 25,
   "id": "a1a181ad",
   "metadata": {},
   "outputs": [
    {
     "name": "stdout",
     "output_type": "stream",
     "text": [
      "magic command writefile\r\n"
     ]
    }
   ],
   "source": [
    "%cat notes.txt"
   ]
  },
  {
   "cell_type": "code",
   "execution_count": null,
   "id": "3a80c391",
   "metadata": {},
   "outputs": [],
   "source": [
    "%more notes.txt"
   ]
  },
  {
   "cell_type": "code",
   "execution_count": null,
   "id": "33cbdd0e",
   "metadata": {},
   "outputs": [],
   "source": [
    "%rm notes.txt"
   ]
  },
  {
   "cell_type": "markdown",
   "id": "90315389",
   "metadata": {},
   "source": [
    "#### HTML, perl, latex commands can be executed."
   ]
  },
  {
   "cell_type": "code",
   "execution_count": null,
   "id": "9390d571",
   "metadata": {
    "scrolled": true
   },
   "outputs": [],
   "source": [
    "%%HTML\n",
    "<iframe width=\"560\" height=\"315\" src=\"https://www.youtube.com/embed/jbrMBOF61e0?start=16\" title=\"YouTube video player\" frameborder=\"0\" allow=\"accelerometer; autoplay; clipboard-write; encrypted-media; gyroscope; picture-in-picture; web-share\" allowfullscreen></iframe>"
   ]
  },
  {
   "cell_type": "markdown",
   "id": "261b0c26",
   "metadata": {},
   "source": [
    "[More info on magics in Turkish](https://github.com/sibirbil/VeriDefteri/blob/master/IPython_sihirli_ifadeler/Jupyter%20sihirli%20komutlar.ipynb)"
   ]
  },
  {
   "cell_type": "markdown",
   "id": "79208718",
   "metadata": {},
   "source": [
    "## [Builtin functions](https://docs.python.org/3/library/functions.html)"
   ]
  },
  {
   "cell_type": "code",
   "execution_count": 36,
   "id": "7a7ec3d3",
   "metadata": {},
   "outputs": [
    {
     "name": "stdout",
     "output_type": "stream",
     "text": [
      "Help on built-in function dir in module builtins:\n",
      "\n",
      "dir(...)\n",
      "    dir([object]) -> list of strings\n",
      "    \n",
      "    If called without an argument, return the names in the current scope.\n",
      "    Else, return an alphabetized list of names comprising (some of) the attributes\n",
      "    of the given object, and of attributes reachable from it.\n",
      "    If the object supplies a method named __dir__, it will be used; otherwise\n",
      "    the default dir() logic is used and returns:\n",
      "      for a module object: the module's attributes.\n",
      "      for a class object:  its attributes, and recursively the attributes\n",
      "        of its bases.\n",
      "      for any other object: its attributes, its class's attributes, and\n",
      "        recursively the attributes of its class's base classes.\n",
      "\n"
     ]
    }
   ],
   "source": [
    "help(dir)"
   ]
  },
  {
   "cell_type": "code",
   "execution_count": 33,
   "id": "be8f6284",
   "metadata": {},
   "outputs": [],
   "source": [
    "import random"
   ]
  },
  {
   "cell_type": "code",
   "execution_count": 35,
   "id": "820ba491",
   "metadata": {},
   "outputs": [
    {
     "data": {
      "text/plain": [
       "['BPF',\n",
       " 'LOG4',\n",
       " 'NV_MAGICCONST',\n",
       " 'RECIP_BPF',\n",
       " 'Random',\n",
       " 'SG_MAGICCONST',\n",
       " 'SystemRandom',\n",
       " 'TWOPI',\n",
       " '_BuiltinMethodType',\n",
       " '_MethodType',\n",
       " '_Sequence',\n",
       " '_Set',\n",
       " '__all__',\n",
       " '__builtins__',\n",
       " '__cached__',\n",
       " '__doc__',\n",
       " '__file__',\n",
       " '__loader__',\n",
       " '__name__',\n",
       " '__package__',\n",
       " '__spec__',\n",
       " '_acos',\n",
       " '_bisect',\n",
       " '_ceil',\n",
       " '_cos',\n",
       " '_e',\n",
       " '_exp',\n",
       " '_inst',\n",
       " '_itertools',\n",
       " '_log',\n",
       " '_os',\n",
       " '_pi',\n",
       " '_random',\n",
       " '_sha512',\n",
       " '_sin',\n",
       " '_sqrt',\n",
       " '_test',\n",
       " '_test_generator',\n",
       " '_urandom',\n",
       " '_warn',\n",
       " 'betavariate',\n",
       " 'choice',\n",
       " 'choices',\n",
       " 'expovariate',\n",
       " 'gammavariate',\n",
       " 'gauss',\n",
       " 'getrandbits',\n",
       " 'getstate',\n",
       " 'lognormvariate',\n",
       " 'normalvariate',\n",
       " 'paretovariate',\n",
       " 'randint',\n",
       " 'random',\n",
       " 'randrange',\n",
       " 'sample',\n",
       " 'seed',\n",
       " 'setstate',\n",
       " 'shuffle',\n",
       " 'triangular',\n",
       " 'uniform',\n",
       " 'vonmisesvariate',\n",
       " 'weibullvariate']"
      ]
     },
     "execution_count": 35,
     "metadata": {},
     "output_type": "execute_result"
    }
   ],
   "source": [
    "dir(random)"
   ]
  },
  {
   "cell_type": "code",
   "execution_count": 29,
   "id": "d421a1cc",
   "metadata": {},
   "outputs": [
    {
     "data": {
      "text/plain": [
       "['In',\n",
       " 'Out',\n",
       " '_',\n",
       " '_10',\n",
       " '_12',\n",
       " '_15',\n",
       " '_17',\n",
       " '_18',\n",
       " '_4',\n",
       " '_8',\n",
       " '__',\n",
       " '___',\n",
       " '__builtin__',\n",
       " '__builtins__',\n",
       " '__doc__',\n",
       " '__loader__',\n",
       " '__name__',\n",
       " '__package__',\n",
       " '__spec__',\n",
       " '_dh',\n",
       " '_exit_code',\n",
       " '_i',\n",
       " '_i1',\n",
       " '_i10',\n",
       " '_i11',\n",
       " '_i12',\n",
       " '_i13',\n",
       " '_i14',\n",
       " '_i15',\n",
       " '_i16',\n",
       " '_i17',\n",
       " '_i18',\n",
       " '_i19',\n",
       " '_i2',\n",
       " '_i20',\n",
       " '_i21',\n",
       " '_i22',\n",
       " '_i23',\n",
       " '_i24',\n",
       " '_i25',\n",
       " '_i26',\n",
       " '_i27',\n",
       " '_i28',\n",
       " '_i29',\n",
       " '_i3',\n",
       " '_i4',\n",
       " '_i5',\n",
       " '_i6',\n",
       " '_i7',\n",
       " '_i8',\n",
       " '_i9',\n",
       " '_ih',\n",
       " '_ii',\n",
       " '_iii',\n",
       " '_oh',\n",
       " 'exit',\n",
       " 'get_ipython',\n",
       " 'quit']"
      ]
     },
     "execution_count": 29,
     "metadata": {},
     "output_type": "execute_result"
    }
   ],
   "source": [
    "dir()"
   ]
  },
  {
   "cell_type": "code",
   "execution_count": 37,
   "id": "7bc4f7b1",
   "metadata": {},
   "outputs": [],
   "source": [
    "x = 6"
   ]
  },
  {
   "cell_type": "code",
   "execution_count": 38,
   "id": "3ff1f71c",
   "metadata": {},
   "outputs": [
    {
     "data": {
      "text/plain": [
       "['In',\n",
       " 'Out',\n",
       " '_',\n",
       " '_10',\n",
       " '_12',\n",
       " '_15',\n",
       " '_17',\n",
       " '_18',\n",
       " '_29',\n",
       " '_35',\n",
       " '_4',\n",
       " '_8',\n",
       " '__',\n",
       " '___',\n",
       " '__builtin__',\n",
       " '__builtins__',\n",
       " '__doc__',\n",
       " '__loader__',\n",
       " '__name__',\n",
       " '__package__',\n",
       " '__spec__',\n",
       " '_dh',\n",
       " '_exit_code',\n",
       " '_i',\n",
       " '_i1',\n",
       " '_i10',\n",
       " '_i11',\n",
       " '_i12',\n",
       " '_i13',\n",
       " '_i14',\n",
       " '_i15',\n",
       " '_i16',\n",
       " '_i17',\n",
       " '_i18',\n",
       " '_i19',\n",
       " '_i2',\n",
       " '_i20',\n",
       " '_i21',\n",
       " '_i22',\n",
       " '_i23',\n",
       " '_i24',\n",
       " '_i25',\n",
       " '_i26',\n",
       " '_i27',\n",
       " '_i28',\n",
       " '_i29',\n",
       " '_i3',\n",
       " '_i30',\n",
       " '_i31',\n",
       " '_i32',\n",
       " '_i33',\n",
       " '_i34',\n",
       " '_i35',\n",
       " '_i36',\n",
       " '_i37',\n",
       " '_i38',\n",
       " '_i4',\n",
       " '_i5',\n",
       " '_i6',\n",
       " '_i7',\n",
       " '_i8',\n",
       " '_i9',\n",
       " '_ih',\n",
       " '_ii',\n",
       " '_iii',\n",
       " '_oh',\n",
       " 'exit',\n",
       " 'get_ipython',\n",
       " 'quit',\n",
       " 'random',\n",
       " 'x']"
      ]
     },
     "execution_count": 38,
     "metadata": {},
     "output_type": "execute_result"
    }
   ],
   "source": [
    "dir()"
   ]
  },
  {
   "cell_type": "code",
   "execution_count": 39,
   "id": "8dce3715",
   "metadata": {},
   "outputs": [],
   "source": [
    "del x"
   ]
  },
  {
   "cell_type": "code",
   "execution_count": 40,
   "id": "6e053e9a",
   "metadata": {},
   "outputs": [
    {
     "data": {
      "text/plain": [
       "['In',\n",
       " 'Out',\n",
       " '_',\n",
       " '_10',\n",
       " '_12',\n",
       " '_15',\n",
       " '_17',\n",
       " '_18',\n",
       " '_29',\n",
       " '_35',\n",
       " '_38',\n",
       " '_4',\n",
       " '_8',\n",
       " '__',\n",
       " '___',\n",
       " '__builtin__',\n",
       " '__builtins__',\n",
       " '__doc__',\n",
       " '__loader__',\n",
       " '__name__',\n",
       " '__package__',\n",
       " '__spec__',\n",
       " '_dh',\n",
       " '_exit_code',\n",
       " '_i',\n",
       " '_i1',\n",
       " '_i10',\n",
       " '_i11',\n",
       " '_i12',\n",
       " '_i13',\n",
       " '_i14',\n",
       " '_i15',\n",
       " '_i16',\n",
       " '_i17',\n",
       " '_i18',\n",
       " '_i19',\n",
       " '_i2',\n",
       " '_i20',\n",
       " '_i21',\n",
       " '_i22',\n",
       " '_i23',\n",
       " '_i24',\n",
       " '_i25',\n",
       " '_i26',\n",
       " '_i27',\n",
       " '_i28',\n",
       " '_i29',\n",
       " '_i3',\n",
       " '_i30',\n",
       " '_i31',\n",
       " '_i32',\n",
       " '_i33',\n",
       " '_i34',\n",
       " '_i35',\n",
       " '_i36',\n",
       " '_i37',\n",
       " '_i38',\n",
       " '_i39',\n",
       " '_i4',\n",
       " '_i40',\n",
       " '_i5',\n",
       " '_i6',\n",
       " '_i7',\n",
       " '_i8',\n",
       " '_i9',\n",
       " '_ih',\n",
       " '_ii',\n",
       " '_iii',\n",
       " '_oh',\n",
       " 'exit',\n",
       " 'get_ipython',\n",
       " 'quit',\n",
       " 'random']"
      ]
     },
     "execution_count": 40,
     "metadata": {},
     "output_type": "execute_result"
    }
   ],
   "source": [
    "dir()"
   ]
  },
  {
   "cell_type": "markdown",
   "id": "7f365d50",
   "metadata": {},
   "source": [
    "# Python Basics\n",
    "\n",
    "- [Clean Code](https://www.pythonchecker.com/)\n",
    "- [The Zen of Python](https://peps.python.org/pep-0020/)\n",
    "- https://en.wikipedia.org/wiki/Zen_of_Python#"
   ]
  },
  {
   "cell_type": "code",
   "execution_count": null,
   "id": "18dfd1f6",
   "metadata": {},
   "outputs": [],
   "source": [
    "import this"
   ]
  },
  {
   "cell_type": "markdown",
   "id": "72341ed3",
   "metadata": {},
   "source": [
    "## Python Enhancement Proposals\n",
    "\n",
    "https://peps.python.org/\n",
    "\n",
    "\n",
    "### PEP 8 – Style Guide for Python Code\n",
    "\n",
    "https://peps.python.org/pep-0008/\n"
   ]
  },
  {
   "cell_type": "markdown",
   "id": "4ea5801b",
   "metadata": {},
   "source": [
    "https://realpython.com/python-namespaces-scope/"
   ]
  },
  {
   "cell_type": "code",
   "execution_count": null,
   "id": "bd1cfb7a",
   "metadata": {},
   "outputs": [],
   "source": [
    "dir(__builtins__)"
   ]
  },
  {
   "cell_type": "code",
   "execution_count": null,
   "id": "9b3080b0",
   "metadata": {},
   "outputs": [],
   "source": [
    "print(\"Hello World\")"
   ]
  },
  {
   "cell_type": "markdown",
   "id": "79a032e5",
   "metadata": {},
   "source": [
    "## Arithmetic Operations"
   ]
  },
  {
   "cell_type": "markdown",
   "id": "7a9ffdad",
   "metadata": {},
   "source": [
    "### Addition, Subtraction, Multiplication, Division, Floor Division, Modulus, Exponent"
   ]
  },
  {
   "cell_type": "code",
   "execution_count": null,
   "id": "3c4b448b",
   "metadata": {},
   "outputs": [],
   "source": [
    "# Addition\n",
    "3 + 5"
   ]
  },
  {
   "cell_type": "code",
   "execution_count": null,
   "id": "bfd3a645",
   "metadata": {},
   "outputs": [],
   "source": [
    "# Subtraction\n",
    "5 - 3"
   ]
  },
  {
   "cell_type": "code",
   "execution_count": null,
   "id": "be96392f",
   "metadata": {},
   "outputs": [],
   "source": [
    "# Multiplication\n",
    "2.7 * 10"
   ]
  },
  {
   "cell_type": "code",
   "execution_count": null,
   "id": "8e61d353",
   "metadata": {},
   "outputs": [],
   "source": [
    "# Division\n",
    "211 / 7"
   ]
  },
  {
   "cell_type": "code",
   "execution_count": null,
   "id": "6ad00461",
   "metadata": {},
   "outputs": [],
   "source": [
    "# Floor Division\n",
    "211 // 7"
   ]
  },
  {
   "cell_type": "code",
   "execution_count": null,
   "id": "bcec44d1",
   "metadata": {},
   "outputs": [],
   "source": [
    "# Modulus\n",
    "211 % 7"
   ]
  },
  {
   "cell_type": "code",
   "execution_count": null,
   "id": "9489ba0e",
   "metadata": {},
   "outputs": [],
   "source": [
    "# Exponent \n",
    "2 ** 4"
   ]
  },
  {
   "cell_type": "markdown",
   "id": "a9bce578",
   "metadata": {},
   "source": [
    "### Operation order, presedence\n",
    "\n",
    "- () : Parentheses\n",
    "- ** : Exponent\n",
    "- *, /, //, % : Multiplication, Division, Floor/Integer Division, Modulus\n",
    "- +, - : Addition, Subtraction"
   ]
  },
  {
   "cell_type": "code",
   "execution_count": null,
   "id": "638e03af",
   "metadata": {},
   "outputs": [],
   "source": [
    "((3+5) * (2+7)) / (5-2)"
   ]
  },
  {
   "cell_type": "code",
   "execution_count": null,
   "id": "b29868c7",
   "metadata": {},
   "outputs": [],
   "source": [
    "4 - 5 * 3"
   ]
  },
  {
   "cell_type": "code",
   "execution_count": null,
   "id": "3355fe74",
   "metadata": {},
   "outputs": [],
   "source": [
    "(4 - 5) * 3"
   ]
  },
  {
   "cell_type": "markdown",
   "id": "57d1f407",
   "metadata": {},
   "source": [
    "## Creating Variables\n",
    "\n",
    "\"=\" is the assignment operator "
   ]
  },
  {
   "cell_type": "code",
   "execution_count": null,
   "id": "aaebc38f",
   "metadata": {},
   "outputs": [],
   "source": [
    "x = y = 2"
   ]
  },
  {
   "cell_type": "code",
   "execution_count": null,
   "id": "8f428763",
   "metadata": {},
   "outputs": [],
   "source": [
    "speed_of_light = 3e5"
   ]
  },
  {
   "cell_type": "code",
   "execution_count": null,
   "id": "5a429d86",
   "metadata": {
    "scrolled": true
   },
   "outputs": [],
   "source": [
    "# Numbers at the beginning of the variable name are not allowed\n",
    "3_times = 9e5"
   ]
  },
  {
   "cell_type": "code",
   "execution_count": null,
   "id": "cd268b6d",
   "metadata": {},
   "outputs": [],
   "source": [
    "name = \"Ayse\""
   ]
  },
  {
   "cell_type": "code",
   "execution_count": null,
   "id": "48d2e872",
   "metadata": {},
   "outputs": [],
   "source": [
    "# Spaces in the variable names are not allowed.\n",
    "name surname = \"Ayse Yildiz\""
   ]
  },
  {
   "cell_type": "code",
   "execution_count": null,
   "id": "115d98cd",
   "metadata": {},
   "outputs": [],
   "source": [
    "# Also this is not allowed\n",
    "name-surname = \"Ayse Yildiz\""
   ]
  },
  {
   "cell_type": "code",
   "execution_count": null,
   "id": "34234e8f",
   "metadata": {},
   "outputs": [],
   "source": [
    "# Camel case\n",
    "NameSurname = \"Ayse Yildiz\""
   ]
  },
  {
   "cell_type": "code",
   "execution_count": null,
   "id": "69915b4f",
   "metadata": {},
   "outputs": [],
   "source": [
    "name_surname = \"Ayse Yildiz\""
   ]
  },
  {
   "cell_type": "code",
   "execution_count": null,
   "id": "39f217bc",
   "metadata": {},
   "outputs": [],
   "source": [
    "name1, name2, name3 =  \"Ayse\", \"Ali\", \"Ayla\""
   ]
  },
  {
   "cell_type": "code",
   "execution_count": null,
   "id": "dd3cbde3",
   "metadata": {},
   "outputs": [],
   "source": [
    "name1"
   ]
  },
  {
   "cell_type": "code",
   "execution_count": null,
   "id": "430fb127",
   "metadata": {},
   "outputs": [],
   "source": [
    "name2"
   ]
  },
  {
   "cell_type": "code",
   "execution_count": null,
   "id": "ea941f62",
   "metadata": {},
   "outputs": [],
   "source": [
    "name1, name2, name3"
   ]
  },
  {
   "cell_type": "code",
   "execution_count": null,
   "id": "69f44b08",
   "metadata": {},
   "outputs": [],
   "source": [
    "# This is a comment\n",
    "\n",
    "m_e = 9.1093837015e-31 # Mass of the electron (kg)\n",
    "\n",
    "'''\n",
    "This is multi-line comment\n",
    "\n",
    "'''\n",
    "\n",
    "# Multiline string\n",
    "\n",
    "multi_str = (\n",
    "'''\n",
    "This is multi-line comment\n",
    "\n",
    "''')\n",
    "\n",
    "print(multi_str)"
   ]
  },
  {
   "cell_type": "code",
   "execution_count": null,
   "id": "9f59cfc6",
   "metadata": {},
   "outputs": [],
   "source": [
    "# Calculate the rest mass energy of an electron \n",
    "m_e = 9.1093837015e-31\n",
    "v_light = 3e8\n",
    "joule_to_MeV = 6.24e12\n",
    "\n",
    "# Calculation\n",
    "E_rest = m_e * v_light ** 2 * joule_to_MeV\n",
    "\n",
    "# Print the result\n",
    "print(\"The rest mass energy of an electron is \", E_rest, \"MeV\")\n",
    "\n",
    "# Print the formatted result, formatted string literals: \n",
    "# https://docs.python.org/3/reference/lexical_analysis.html#f-strings \n",
    "print(f\"The rest mass energy of an electron is {E_rest:.3f} MeV\")\n",
    "\n",
    "#print(\"The rest mass energy of an electron is : % 3.3f\" %(E_rest))\n"
   ]
  },
  {
   "cell_type": "markdown",
   "id": "e70e651f",
   "metadata": {},
   "source": [
    "## Comparison and Logical Operators\n",
    "\n",
    "### Comparison operators\n",
    "\n",
    "|Operator|Meaning|\n",
    "|-----|--------|\n",
    "| ==  | Equal to| \n",
    "| !=  | Not equal to|\n",
    "| >   | Greater than |\n",
    "| <   | Less than |\n",
    "| >=  | Greater then or equal to |\n",
    "| <=  | Less than or equal to |\n",
    "\n"
   ]
  },
  {
   "cell_type": "code",
   "execution_count": null,
   "id": "0258349b",
   "metadata": {},
   "outputs": [],
   "source": [
    "# Create two variables: a and b\n",
    "a = 7\n",
    "b = 9"
   ]
  },
  {
   "cell_type": "code",
   "execution_count": null,
   "id": "0dc5c121",
   "metadata": {},
   "outputs": [],
   "source": [
    "a == 7"
   ]
  },
  {
   "cell_type": "code",
   "execution_count": null,
   "id": "f5987be0",
   "metadata": {},
   "outputs": [],
   "source": [
    "a == 5"
   ]
  },
  {
   "cell_type": "code",
   "execution_count": null,
   "id": "426ac6e3",
   "metadata": {},
   "outputs": [],
   "source": [
    "a != 5 "
   ]
  },
  {
   "cell_type": "code",
   "execution_count": null,
   "id": "ab3462b4",
   "metadata": {},
   "outputs": [],
   "source": [
    "a < 3"
   ]
  },
  {
   "cell_type": "code",
   "execution_count": null,
   "id": "82eb0d7f",
   "metadata": {},
   "outputs": [],
   "source": [
    "a == b  # Remember: b = 9"
   ]
  },
  {
   "cell_type": "code",
   "execution_count": null,
   "id": "f4c6cb89",
   "metadata": {},
   "outputs": [],
   "source": [
    "a < b"
   ]
  },
  {
   "cell_type": "code",
   "execution_count": null,
   "id": "3fd57461",
   "metadata": {},
   "outputs": [],
   "source": [
    "# Let's create another variable: c\n",
    "c = 2"
   ]
  },
  {
   "cell_type": "code",
   "execution_count": null,
   "id": "c9c2766c",
   "metadata": {},
   "outputs": [],
   "source": [
    "# Check if c is between 1 and 2\n",
    "1 < c < 3"
   ]
  },
  {
   "cell_type": "markdown",
   "id": "31aa2743",
   "metadata": {},
   "source": [
    "### Logical Operators\n",
    "\n",
    "| Operator | Meaning |\n",
    "|-----|--------------|      \n",
    "| and | Expressions are true     | \n",
    "| or  | At least one of them is true |\n",
    "| not | Expression is not true |\n"
   ]
  },
  {
   "cell_type": "code",
   "execution_count": null,
   "id": "89714c21",
   "metadata": {},
   "outputs": [],
   "source": [
    "# Create two variables: a, b. Assign 7 and 9 to them.\n",
    "a = 7\n",
    "b = 9"
   ]
  },
  {
   "cell_type": "code",
   "execution_count": null,
   "id": "a7a63283",
   "metadata": {},
   "outputs": [],
   "source": [
    "a == 7 and b == 9"
   ]
  },
  {
   "cell_type": "code",
   "execution_count": null,
   "id": "27b793b1",
   "metadata": {},
   "outputs": [],
   "source": [
    "a == 7 and b == 10"
   ]
  },
  {
   "cell_type": "code",
   "execution_count": null,
   "id": "03cf3a83",
   "metadata": {},
   "outputs": [],
   "source": [
    "a == 7 or b == 10"
   ]
  },
  {
   "cell_type": "code",
   "execution_count": null,
   "id": "db0b0f7c",
   "metadata": {},
   "outputs": [],
   "source": [
    "not b == 10"
   ]
  },
  {
   "cell_type": "code",
   "execution_count": null,
   "id": "4b8b7dc4",
   "metadata": {},
   "outputs": [],
   "source": [
    "not b == 10 or not a == 7"
   ]
  },
  {
   "cell_type": "code",
   "execution_count": null,
   "id": "2b0ac159",
   "metadata": {},
   "outputs": [],
   "source": [
    "not b == 9 or not a == 7"
   ]
  },
  {
   "cell_type": "code",
   "execution_count": null,
   "id": "60cb10b8",
   "metadata": {},
   "outputs": [],
   "source": [
    "if a == 7 and b == 9:\n",
    "    print(\"Numbers are correct\")"
   ]
  },
  {
   "cell_type": "markdown",
   "id": "d104d7f4",
   "metadata": {},
   "source": [
    "## Basic Data Types in Python\n",
    "\n",
    "- Integer\n",
    "- Float\n",
    "- String\n",
    "- List\n",
    "- Tuple\n",
    "- Dictionary\n",
    "- Boolean\n",
    "- NoneType"
   ]
  },
  {
   "cell_type": "markdown",
   "id": "6aa201f1",
   "metadata": {},
   "source": [
    "### Introduction"
   ]
  },
  {
   "cell_type": "code",
   "execution_count": null,
   "id": "fc07b069",
   "metadata": {},
   "outputs": [],
   "source": [
    "# Integer\n",
    "number = 4\n",
    "type(number)"
   ]
  },
  {
   "cell_type": "code",
   "execution_count": null,
   "id": "65cfef5a",
   "metadata": {},
   "outputs": [],
   "source": [
    "# Float\n",
    "number2 = 4.5\n",
    "type(number2)"
   ]
  },
  {
   "cell_type": "code",
   "execution_count": null,
   "id": "b5586f27",
   "metadata": {},
   "outputs": [],
   "source": [
    "# String\n",
    "name = \"Ayse\"\n",
    "type(name)"
   ]
  },
  {
   "cell_type": "code",
   "execution_count": null,
   "id": "7c14ca81",
   "metadata": {},
   "outputs": [],
   "source": [
    "# List\n",
    "colors = [\"red\", \"blue\", \"green\"]\n",
    "type(colors)"
   ]
  },
  {
   "cell_type": "code",
   "execution_count": null,
   "id": "8393afa1",
   "metadata": {},
   "outputs": [],
   "source": [
    "# Boolean\n",
    "is_color_red = True\n",
    "type(is_color_red)"
   ]
  },
  {
   "cell_type": "code",
   "execution_count": null,
   "id": "644a2fc6",
   "metadata": {},
   "outputs": [],
   "source": [
    "# Tuple\n",
    "colors = (\"red\", \"blue\", \"green\")\n",
    "type(colors)"
   ]
  },
  {
   "cell_type": "code",
   "execution_count": null,
   "id": "664ec628",
   "metadata": {},
   "outputs": [],
   "source": [
    "# Dictionary\n",
    "colors = {\"name\": \"Ayse\", \"surname\": \"Yildiz\"}\n",
    "type(colors)"
   ]
  },
  {
   "cell_type": "code",
   "execution_count": null,
   "id": "8786c1a8",
   "metadata": {},
   "outputs": [],
   "source": [
    "# Nonetype\n",
    "colors = None\n",
    "type(colors)"
   ]
  },
  {
   "cell_type": "code",
   "execution_count": null,
   "id": "b6dc166f",
   "metadata": {},
   "outputs": [],
   "source": [
    "# Multiplication of two integer returns integer\n",
    "type(3*2)"
   ]
  },
  {
   "cell_type": "code",
   "execution_count": null,
   "id": "31447f15",
   "metadata": {},
   "outputs": [],
   "source": [
    "# Multiplication of an integer and a float returns a float\n",
    "type(3*2.0)"
   ]
  },
  {
   "cell_type": "code",
   "execution_count": null,
   "id": "0118a01a",
   "metadata": {},
   "outputs": [],
   "source": [
    "# Division always returns a float\n",
    "type(3/2)"
   ]
  },
  {
   "cell_type": "code",
   "execution_count": null,
   "id": "3f607c0e",
   "metadata": {},
   "outputs": [],
   "source": [
    "a = 5\n",
    "if a:\n",
    "    print(a)"
   ]
  },
  {
   "cell_type": "code",
   "execution_count": null,
   "id": "f9184977",
   "metadata": {},
   "outputs": [],
   "source": [
    "# Prints nothing. Why?\n",
    "if b:\n",
    "    print(b)"
   ]
  },
  {
   "cell_type": "code",
   "execution_count": null,
   "id": "510fec82",
   "metadata": {},
   "outputs": [],
   "source": [
    "# Prints nothing Why?\n",
    "c = []\n",
    "\n",
    "if c:\n",
    "    print(c)\n",
    "    \n",
    "# see falsy/truty values"
   ]
  },
  {
   "cell_type": "code",
   "execution_count": null,
   "id": "53988598",
   "metadata": {},
   "outputs": [],
   "source": [
    "# Use function bool() to check if a value is falsy or truthy\n",
    "bool(0), bool([]), bool(()), bool(0.0), bool(None), bool({}), bool(set()), bool(range(0)), bool(\"\"), bool(0j)"
   ]
  },
  {
   "cell_type": "code",
   "execution_count": null,
   "id": "053aed85",
   "metadata": {},
   "outputs": [],
   "source": [
    "bool(a)"
   ]
  },
  {
   "cell_type": "code",
   "execution_count": null,
   "id": "63f53650",
   "metadata": {},
   "outputs": [],
   "source": [
    "bool(b)"
   ]
  },
  {
   "cell_type": "code",
   "execution_count": null,
   "id": "dcc4d2b3",
   "metadata": {},
   "outputs": [],
   "source": [
    "bool(c)"
   ]
  },
  {
   "cell_type": "markdown",
   "id": "7d63b485",
   "metadata": {},
   "source": [
    "### String Type"
   ]
  },
  {
   "cell_type": "code",
   "execution_count": null,
   "id": "39f76129",
   "metadata": {},
   "outputs": [],
   "source": [
    "\"Hello World\", 'Hello World'"
   ]
  },
  {
   "cell_type": "code",
   "execution_count": null,
   "id": "11290f1c",
   "metadata": {},
   "outputs": [],
   "source": [
    "# https://www.amazon.com/Fyodor-Dostoyevsky-troubles-calculate-happiness/dp/178780254X\n",
    "print(\"Man only likes to count his troubles; he doesn't calculate his happiness.\")"
   ]
  },
  {
   "cell_type": "code",
   "execution_count": null,
   "id": "c1ba7302",
   "metadata": {},
   "outputs": [],
   "source": [
    "print('Man only likes to count his troubles; he doesn't calculate his happiness.')"
   ]
  },
  {
   "cell_type": "code",
   "execution_count": null,
   "id": "52d7e831",
   "metadata": {},
   "outputs": [],
   "source": [
    "print('Man only likes to count his troubles; he doesn\\'t calculate his happiness.')"
   ]
  },
  {
   "cell_type": "code",
   "execution_count": null,
   "id": "c70d9089",
   "metadata": {},
   "outputs": [],
   "source": [
    "number = 5\n",
    "print(str(number))\n",
    "print(\"You have \" + str(number) + \" apples\")"
   ]
  },
  {
   "cell_type": "code",
   "execution_count": null,
   "id": "f5165929",
   "metadata": {},
   "outputs": [],
   "source": [
    "author = \"Dostoyevsky\"\n",
    "author[0]"
   ]
  },
  {
   "cell_type": "code",
   "execution_count": null,
   "id": "93349588",
   "metadata": {},
   "outputs": [],
   "source": [
    "author[0:3]"
   ]
  },
  {
   "cell_type": "code",
   "execution_count": null,
   "id": "3b17d2e9",
   "metadata": {},
   "outputs": [],
   "source": [
    "# Length of the string\n",
    "len(author)"
   ]
  },
  {
   "cell_type": "code",
   "execution_count": null,
   "id": "13c5778b",
   "metadata": {},
   "outputs": [],
   "source": [
    "# Convert string to list\n",
    "list(author)"
   ]
  },
  {
   "cell_type": "code",
   "execution_count": null,
   "id": "f73c892d",
   "metadata": {},
   "outputs": [],
   "source": [
    "\"Dosto\" in author"
   ]
  },
  {
   "cell_type": "code",
   "execution_count": null,
   "id": "7418468c",
   "metadata": {},
   "outputs": [],
   "source": [
    "author.upper()"
   ]
  },
  {
   "cell_type": "code",
   "execution_count": null,
   "id": "10cc7064",
   "metadata": {},
   "outputs": [],
   "source": [
    "author.lower()"
   ]
  },
  {
   "cell_type": "code",
   "execution_count": null,
   "id": "8ba06f83",
   "metadata": {},
   "outputs": [],
   "source": [
    "\"fyodor\".capitalize()"
   ]
  },
  {
   "cell_type": "code",
   "execution_count": null,
   "id": "f2f4c8cd",
   "metadata": {},
   "outputs": [],
   "source": [
    "composer = author.replace(\"Dostoye\", \"Tchaiko\")\n",
    "composer"
   ]
  },
  {
   "cell_type": "code",
   "execution_count": null,
   "id": "f99c2479",
   "metadata": {},
   "outputs": [],
   "source": [
    "\"red, green, blue, purple\".split()"
   ]
  },
  {
   "cell_type": "code",
   "execution_count": null,
   "id": "ca0450ac",
   "metadata": {},
   "outputs": [],
   "source": [
    "quote_by_coleman = \"The career of a young theoretical physicist consists of treating the {} in ever-increasing levels of abstraction.\"\n",
    "quote_by_coleman = quote_by_coleman.format(\"harmonic oscillator\")\n",
    "quote_by_coleman"
   ]
  },
  {
   "cell_type": "markdown",
   "id": "6ab51cad",
   "metadata": {},
   "source": [
    "### List Type"
   ]
  },
  {
   "cell_type": "code",
   "execution_count": null,
   "id": "6a86e887",
   "metadata": {},
   "outputs": [],
   "source": [
    "# Create list\n",
    "colors = [\"red\", \"green\", \"blue\"]"
   ]
  },
  {
   "cell_type": "code",
   "execution_count": null,
   "id": "99246cf6",
   "metadata": {},
   "outputs": [],
   "source": [
    "# Number of values in the list\n",
    "len(colors)"
   ]
  },
  {
   "cell_type": "code",
   "execution_count": null,
   "id": "fcd4d2bc",
   "metadata": {},
   "outputs": [],
   "source": [
    "liste = [\"red\", 5, True, 5.4]\n",
    "liste"
   ]
  },
  {
   "cell_type": "code",
   "execution_count": null,
   "id": "d5f2d9e4",
   "metadata": {},
   "outputs": [],
   "source": [
    "liste[0]"
   ]
  },
  {
   "cell_type": "code",
   "execution_count": null,
   "id": "fbff75d3",
   "metadata": {},
   "outputs": [],
   "source": [
    "liste[1]"
   ]
  },
  {
   "cell_type": "code",
   "execution_count": null,
   "id": "18228d7f",
   "metadata": {},
   "outputs": [],
   "source": [
    "liste[-1]"
   ]
  },
  {
   "cell_type": "code",
   "execution_count": null,
   "id": "96cc07b4",
   "metadata": {},
   "outputs": [],
   "source": [
    "liste[-2]"
   ]
  },
  {
   "cell_type": "code",
   "execution_count": null,
   "id": "ccd0fbf6",
   "metadata": {},
   "outputs": [],
   "source": [
    "liste[4]"
   ]
  },
  {
   "cell_type": "code",
   "execution_count": null,
   "id": "b47c2cdb",
   "metadata": {},
   "outputs": [],
   "source": [
    "liste[0:2]"
   ]
  },
  {
   "cell_type": "code",
   "execution_count": null,
   "id": "7f1368be",
   "metadata": {},
   "outputs": [],
   "source": [
    "colors.append(\"purple\")\n",
    "colors"
   ]
  },
  {
   "cell_type": "code",
   "execution_count": null,
   "id": "b0fbc791",
   "metadata": {},
   "outputs": [],
   "source": [
    "colors = [\"red\", \"green\", \"blue\"]\n",
    "colors.insert(2, \"yellow\")\n",
    "colors"
   ]
  },
  {
   "cell_type": "code",
   "execution_count": null,
   "id": "a7174bed",
   "metadata": {},
   "outputs": [],
   "source": [
    "colors.remove(\"yellow\")\n",
    "colors"
   ]
  },
  {
   "cell_type": "code",
   "execution_count": null,
   "id": "ee94a461",
   "metadata": {},
   "outputs": [],
   "source": [
    "colors = [\"red\", \"green\", \"blue\"]\n",
    "colors.pop(1) \n",
    "colors"
   ]
  },
  {
   "cell_type": "code",
   "execution_count": null,
   "id": "7c1c5567",
   "metadata": {},
   "outputs": [],
   "source": [
    "\"red\" in colors"
   ]
  },
  {
   "cell_type": "code",
   "execution_count": null,
   "id": "311670a0",
   "metadata": {},
   "outputs": [],
   "source": [
    "colors = [\"red\", \"blue\", \"green\"]\n",
    "colors_extended = colors + [\"yellow\", \"black\", \"pink\"]\n",
    "colors_extended  "
   ]
  },
  {
   "cell_type": "code",
   "execution_count": null,
   "id": "7c737ad0",
   "metadata": {},
   "outputs": [],
   "source": [
    "colors_extended.pop()\n",
    "colors_extended"
   ]
  },
  {
   "cell_type": "code",
   "execution_count": null,
   "id": "9f77f005",
   "metadata": {},
   "outputs": [],
   "source": [
    "colors_extended.remove(\"yellow\")\n",
    "colors_extended"
   ]
  },
  {
   "cell_type": "code",
   "execution_count": null,
   "id": "d8943f45",
   "metadata": {},
   "outputs": [],
   "source": [
    "colors = [\"red\", \"blue\", \"green\"]\n",
    "my_colors = colors\n",
    "my_colors.remove(\"green\")\n",
    "colors"
   ]
  },
  {
   "cell_type": "code",
   "execution_count": null,
   "id": "aabfad95",
   "metadata": {},
   "outputs": [],
   "source": [
    "colors = [\"red\", \"blue\", \"green\"]\n",
    "my_colors = colors.copy()\n",
    "my_colors.remove(\"green\")\n",
    "colors"
   ]
  },
  {
   "cell_type": "markdown",
   "id": "f9187814",
   "metadata": {},
   "source": [
    "### Tuples Type\n",
    "\n",
    "- In this type modifications are not allowed."
   ]
  },
  {
   "cell_type": "code",
   "execution_count": null,
   "id": "f8fefb22",
   "metadata": {},
   "outputs": [],
   "source": [
    "colors = (\"red\", \"green\", \"blue\")\n",
    "colors"
   ]
  },
  {
   "cell_type": "code",
   "execution_count": null,
   "id": "7d053056",
   "metadata": {},
   "outputs": [],
   "source": [
    "type(colors)"
   ]
  },
  {
   "cell_type": "code",
   "execution_count": null,
   "id": "9d67c36d",
   "metadata": {},
   "outputs": [],
   "source": [
    "# or\n",
    "colors = \"red\", \"green\", \"blue\""
   ]
  },
  {
   "cell_type": "code",
   "execution_count": null,
   "id": "54ee244d",
   "metadata": {},
   "outputs": [],
   "source": [
    "type(colors)"
   ]
  },
  {
   "cell_type": "code",
   "execution_count": null,
   "id": "5615bc48",
   "metadata": {},
   "outputs": [],
   "source": [
    "len(colors)"
   ]
  },
  {
   "cell_type": "code",
   "execution_count": null,
   "id": "ba68699e",
   "metadata": {},
   "outputs": [],
   "source": [
    "# Item cannot be changed\n",
    "colors[0] = \"yellow\""
   ]
  },
  {
   "cell_type": "code",
   "execution_count": null,
   "id": "c0c66ad3",
   "metadata": {},
   "outputs": [],
   "source": [
    "# Item can not be removed\n",
    "colors.remove(\"red\")"
   ]
  },
  {
   "cell_type": "code",
   "execution_count": null,
   "id": "37b1804c",
   "metadata": {},
   "outputs": [],
   "source": [
    "colors[1]"
   ]
  },
  {
   "cell_type": "code",
   "execution_count": null,
   "id": "3fb6e663",
   "metadata": {},
   "outputs": [],
   "source": [
    "colors[-1]"
   ]
  },
  {
   "cell_type": "code",
   "execution_count": null,
   "id": "2e580e81",
   "metadata": {},
   "outputs": [],
   "source": [
    "colors[0:2]"
   ]
  },
  {
   "cell_type": "code",
   "execution_count": null,
   "id": "d3da997d",
   "metadata": {},
   "outputs": [],
   "source": [
    "\"red\" in colors"
   ]
  },
  {
   "cell_type": "code",
   "execution_count": null,
   "id": "35381d8b",
   "metadata": {},
   "outputs": [],
   "source": [
    "# If the comma at the end is absent, then the type is string.\n",
    "color = (\"pink\",)\n",
    "print(type(color))\n",
    "color = (\"pink\")\n",
    "print(type(color))"
   ]
  },
  {
   "cell_type": "code",
   "execution_count": null,
   "id": "0b6f9b2d",
   "metadata": {},
   "outputs": [],
   "source": [
    "coordinate = (2, 5)\n",
    "x_coordinate, y_coordinate = coordinate"
   ]
  },
  {
   "cell_type": "code",
   "execution_count": null,
   "id": "1339d30a",
   "metadata": {},
   "outputs": [],
   "source": [
    "x_coordinate"
   ]
  },
  {
   "cell_type": "code",
   "execution_count": null,
   "id": "bba19531",
   "metadata": {},
   "outputs": [],
   "source": [
    "y_coordinate"
   ]
  },
  {
   "cell_type": "markdown",
   "id": "c2df7002",
   "metadata": {},
   "source": [
    "### Dictionary Type\n",
    "\n",
    "- Unordered collection of items"
   ]
  },
  {
   "cell_type": "code",
   "execution_count": null,
   "id": "3ca9a674",
   "metadata": {},
   "outputs": [],
   "source": [
    "car = {\n",
    "    \"manufacturer\": \"Aston Martin\",\n",
    "    \"model\": \"Aston Martin DB5\",\n",
    "    \"year\": 1965,\n",
    "    \"available\": True\n",
    "}\n",
    "\n",
    "type(car)"
   ]
  },
  {
   "cell_type": "code",
   "execution_count": null,
   "id": "cbaa8d59",
   "metadata": {},
   "outputs": [],
   "source": [
    "car"
   ]
  },
  {
   "cell_type": "code",
   "execution_count": null,
   "id": "fe71bc87",
   "metadata": {},
   "outputs": [],
   "source": [
    "# Another method for creating dictionary\n",
    "james_bond_car = dict(manufacturer=\"Aston Martin\", model=\"Aston Martin DB5\", year=1965, available=True)\n",
    "type(james_bond_car)"
   ]
  },
  {
   "cell_type": "code",
   "execution_count": null,
   "id": "87684620",
   "metadata": {},
   "outputs": [],
   "source": [
    "james_bond_car"
   ]
  },
  {
   "cell_type": "code",
   "execution_count": null,
   "id": "5acaa988",
   "metadata": {},
   "outputs": [],
   "source": [
    "car[\"model\"]"
   ]
  },
  {
   "cell_type": "code",
   "execution_count": null,
   "id": "e6ceb58d",
   "metadata": {},
   "outputs": [],
   "source": [
    "car[\"color\"]\n",
    "# We didn't define a color keyword --> KeyError"
   ]
  },
  {
   "cell_type": "code",
   "execution_count": null,
   "id": "b385bcbe",
   "metadata": {},
   "outputs": [],
   "source": [
    "# Another method for obtaining keyword values\n",
    "car.get(\"model\")"
   ]
  },
  {
   "cell_type": "code",
   "execution_count": null,
   "id": "0e6ec841",
   "metadata": {},
   "outputs": [],
   "source": [
    "print(car.get(\"color\"))"
   ]
  },
  {
   "cell_type": "code",
   "execution_count": null,
   "id": "6298e4f9",
   "metadata": {},
   "outputs": [],
   "source": [
    "\"model\" in car"
   ]
  },
  {
   "cell_type": "code",
   "execution_count": null,
   "id": "b4ef0106",
   "metadata": {},
   "outputs": [],
   "source": [
    "car[\"available\"]"
   ]
  },
  {
   "cell_type": "code",
   "execution_count": null,
   "id": "972b2115",
   "metadata": {},
   "outputs": [],
   "source": [
    "# This method does not work in dictionary\n",
    "car[0]"
   ]
  },
  {
   "cell_type": "code",
   "execution_count": null,
   "id": "41201421",
   "metadata": {},
   "outputs": [],
   "source": [
    "car.keys()"
   ]
  },
  {
   "cell_type": "code",
   "execution_count": null,
   "id": "9d24e8ef",
   "metadata": {},
   "outputs": [],
   "source": [
    "car.values()"
   ]
  },
  {
   "cell_type": "code",
   "execution_count": null,
   "id": "e3485a17",
   "metadata": {},
   "outputs": [],
   "source": [
    "# Does not work\n",
    "car.values()[1]"
   ]
  },
  {
   "cell_type": "code",
   "execution_count": null,
   "id": "9a2d11c6",
   "metadata": {},
   "outputs": [],
   "source": [
    "car.items()"
   ]
  },
  {
   "cell_type": "code",
   "execution_count": null,
   "id": "5b0f6454",
   "metadata": {},
   "outputs": [],
   "source": [
    "# END"
   ]
  }
 ],
 "metadata": {
  "kernelspec": {
   "display_name": "Python 3 (ipykernel)",
   "language": "python",
   "name": "python3"
  },
  "language_info": {
   "codemirror_mode": {
    "name": "ipython",
    "version": 3
   },
   "file_extension": ".py",
   "mimetype": "text/x-python",
   "name": "python",
   "nbconvert_exporter": "python",
   "pygments_lexer": "ipython3",
   "version": "3.7.0"
  }
 },
 "nbformat": 4,
 "nbformat_minor": 5
}
