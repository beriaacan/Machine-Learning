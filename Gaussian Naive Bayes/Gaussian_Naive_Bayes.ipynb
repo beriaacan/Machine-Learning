{
  "nbformat": 4,
  "nbformat_minor": 0,
  "metadata": {
    "colab": {
      "provenance": [],
      "authorship_tag": "ABX9TyMFXT31xt5AIhSOXBK4qJYT",
      "include_colab_link": true
    },
    "kernelspec": {
      "name": "python3",
      "display_name": "Python 3"
    },
    "language_info": {
      "name": "python"
    }
  },
  "cells": [
    {
      "cell_type": "markdown",
      "metadata": {
        "id": "view-in-github",
        "colab_type": "text"
      },
      "source": [
        "<a href=\"https://colab.research.google.com/github/beriaacan/Machine-Learning-Algorithms/blob/main/Gaussian%20Naive%20Bayes/Gaussian_Naive_Bayes.ipynb\" target=\"_parent\"><img src=\"https://colab.research.google.com/assets/colab-badge.svg\" alt=\"Open In Colab\"/></a>"
      ]
    },
    {
      "cell_type": "markdown",
      "source": [
        "Beria Ayşenur CAN 090200705"
      ],
      "metadata": {
        "id": "py7fl4591cnD"
      }
    },
    {
      "cell_type": "markdown",
      "source": [
        "#Gaussian Naive Bayes\n",
        "\n",
        "Gaussian Naive Bayes modeli Naive Bayes sınıflandırmasına aittir. Bu algoritmada sürekli (continous) veri ele alınır. Her sınıfla ilişkili sürekli özellikler normal (veya Gaussian) dağılıma göre dağıtılır. Bu yöntem kullanılarak eğitim verisinden her sınıf için ortalama (mean) ve standart sapma (standard deviation) değerleri tahmin edilir. Bu sayede dağılım özetlenir.\n",
        "\n",
        "Gaussian Naive Bayes algoritmasında her sınıfın olasılıklarına ek olarak her sınıfın ortalama ve standart sapma değerleri de saklanır.\n",
        "Bayes Teoermi kullanılarak çalışır:\n",
        "\n",
        "**Bayes Teoremi:**\n",
        "\n",
        "P(A|B), B olayı gerçekleştiğinde A olayının olasılığını temsil eder ve şu şekilde ifade edilir:\n",
        "\\begin{equation}\n",
        "    P(A| B) = \\frac{P(B|A)\\cdot P(A)}{P(B)}\n",
        "\\end{equation}"
      ],
      "metadata": {
        "id": "EesLGgLg1Unt"
      }
    },
    {
      "cell_type": "markdown",
      "source": [
        "Gaussian Naive Bayes (GaussianNB) modelini oluşturan bu fonksiyonları sırayla açıklayalım:"
      ],
      "metadata": {
        "id": "FauzthdGn47j"
      }
    },
    {
      "cell_type": "code",
      "source": [
        "import numpy as np\n",
        "import matplotlib.pyplot as plt\n",
        "from sklearn.model_selection import train_test_split\n",
        "from sklearn.metrics import accuracy_score, confusion_matrix\n",
        "from sklearn.naive_bayes import GaussianNB  # Using sklearn's GaussianNB for demonstration\n"
      ],
      "metadata": {
        "id": "MYmJfhkT8WFh"
      },
      "execution_count": null,
      "outputs": []
    },
    {
      "cell_type": "code",
      "source": [
        "class GaussianNB_:\n",
        "    def __init__(self, priors=None, var_smoothing=1e-9):\n",
        "        self.priors = priors\n",
        "        self.var_smoothing = var_smoothing\n",
        "        self.theta_ = None\n",
        "        self.var_ = None\n",
        "        self.class_priors_ = None\n",
        "        self.classes_ = None\n",
        "\n",
        "    def _check_input(self, X):\n",
        "        \"\"\"Ensure the input is a numpy array of numeric types.\"\"\"\n",
        "        if not isinstance(X, np.ndarray):\n",
        "            try:\n",
        "                X = np.array(X, dtype=np.float64)\n",
        "            except ValueError:\n",
        "                raise ValueError(\"Input data X must be a numeric array.\")\n",
        "        return X\n",
        "\n",
        "\n",
        "    def logprior(self, class_ind):\n",
        "        return np.log(self.class_priors_[class_ind])\n",
        "\n",
        "    def loglikelihood(self, Xi, class_ind):\n",
        "        mean = self.theta_[class_ind]\n",
        "        var = self.var_[class_ind]\n",
        "\n",
        "        # Debugging print statements\n",
        "        #print(\"Xi type:\", type(Xi), \"Xi shape:\", Xi.shape)\n",
        "        #print(\"Mean type:\", type(mean), \"Mean shape:\", mean.shape)\n",
        "        #print(\"Var type:\", type(var), \"Var shape:\", var.shape)\n",
        "\n",
        "        numerator = -0.5 * np.sum(np.log(2. * np.pi * var))\n",
        "        denominator = -0.5 * np.sum(((Xi - mean) ** 2) / var)\n",
        "        return numerator + denominator\n",
        "\n",
        "    def posterior(self, Xi, class_ind):\n",
        "        return self.logprior(class_ind) + self.loglikelihood(Xi, class_ind)\n",
        "\n",
        "    def fit(self, X, y):\n",
        "        n_samples, n_features = X.shape\n",
        "        self.classes_ = np.unique(y)\n",
        "        n_classes = len(self.classes_)\n",
        "\n",
        "        self.theta_ = np.zeros((n_classes, n_features))\n",
        "        self.var_ = np.zeros((n_classes, n_features))\n",
        "        self.class_priors_ = np.zeros(n_classes)\n",
        "\n",
        "        for c_ind, c_id in enumerate(self.classes_):\n",
        "            X_class = X[y == c_id]\n",
        "            self.theta_[c_ind, :] = np.mean(X_class, axis=0)\n",
        "            self.var_[c_ind, :] = np.var(X_class, axis=0) + self.var_smoothing\n",
        "            self.class_priors_[c_ind] = np.sum(y == c_id) / n_samples\n",
        "\n",
        "\n",
        "    def predict(self, X):\n",
        "        X = self._check_input(X)  # Ensuring X is a NumPy array\n",
        "        predictions = []\n",
        "        for xi in X:\n",
        "            # Debugging: Check the type of xi\n",
        "            if isinstance(xi, str):\n",
        "                print(\"Error: Non-numeric data found:\", xi)\n",
        "                continue\n",
        "\n",
        "            post = [self.posterior(xi, class_ind) for class_ind in range(len(self.classes_))]\n",
        "            predictions.append(self.classes_[np.argmax(post)])\n",
        "        return np.array(predictions)\n"
      ],
      "metadata": {
        "id": "zZxuBdkw7Sm3"
      },
      "execution_count": 46,
      "outputs": []
    },
    {
      "cell_type": "markdown",
      "source": [
        "#örnek kullanım"
      ],
      "metadata": {
        "id": "kY4sxnV9zNbE"
      }
    },
    {
      "cell_type": "code",
      "source": [
        "X = np.array([[1.0, 2.0], [2.0, 3.0], [3.0, 4.0], [4.0, 5.0], [5.0, 6.0], [6.0, 7.0]])\n",
        "y = np.array([0, 1, 0, 1, 0, 1])"
      ],
      "metadata": {
        "id": "eHjwpOBzym7i"
      },
      "execution_count": 47,
      "outputs": []
    },
    {
      "cell_type": "code",
      "source": [
        "model = GaussianNB_()\n",
        "model.fit(X, y)\n"
      ],
      "metadata": {
        "id": "bEtGq-9Mr3Tv"
      },
      "execution_count": 48,
      "outputs": []
    },
    {
      "cell_type": "code",
      "source": [
        "new_data = np.array([[2.5, 3.5], [4.5, 5.5]])\n",
        "\n",
        "# Make predictions\n",
        "predictions = model.predict(new_data)\n",
        "\n",
        "print(\"Predictions:\", predictions)"
      ],
      "metadata": {
        "colab": {
          "base_uri": "https://localhost:8080/"
        },
        "id": "WIbQgu6yyskx",
        "outputId": "4b18bca7-7801-474a-bd93-9857efadac13"
      },
      "execution_count": 49,
      "outputs": [
        {
          "output_type": "stream",
          "name": "stdout",
          "text": [
            "Predictions: [0 1]\n"
          ]
        }
      ]
    },
    {
      "cell_type": "code",
      "source": [
        "# Veri setini eğitim ve doğrulama setlerine ayırma\n",
        "X_train, X_val, y_train, y_val = train_test_split(X, y, test_size=0.2, random_state=42)\n",
        "\n",
        "# Modeli eğitim setiyle eğitme\n",
        "model.fit(X_train, y_train)\n",
        "\n",
        "# Doğrulama seti üzerinde tahmin yapma\n",
        "y_pred = model.predict(X_val)\n",
        "\n",
        "# Başarı metriklerini hesaplama\n",
        "accuracy = accuracy_score(y_val, y_pred)\n",
        "conf_matrix = confusion_matrix(y_val, y_pred)\n",
        "\n",
        "print(\"Accuracy:\", accuracy)\n",
        "print(\"Confusion Matrix:\\n\", conf_matrix)"
      ],
      "metadata": {
        "colab": {
          "base_uri": "https://localhost:8080/"
        },
        "id": "RIZFKsxozG0Q",
        "outputId": "2c6bb42c-2bc5-4598-855f-03685e996a57"
      },
      "execution_count": 50,
      "outputs": [
        {
          "output_type": "stream",
          "name": "stdout",
          "text": [
            "Accuracy: 0.5\n",
            "Confusion Matrix:\n",
            " [[1 0]\n",
            " [1 0]]\n"
          ]
        }
      ]
    },
    {
      "cell_type": "code",
      "source": [
        "# Plotting the results\n",
        "plt.figure(figsize=(10, 4))\n",
        "\n",
        "# Plotting confusion matrix\n",
        "plt.subplot(1, 2, 1)\n",
        "plt.imshow(conf_matrix, interpolation='nearest', cmap=plt.cm.Blues)\n",
        "plt.title('Confusion Matrix')\n",
        "plt.colorbar()\n",
        "tick_marks = np.arange(len(np.unique(y)))\n",
        "plt.xticks(tick_marks, np.unique(y), rotation=45)\n",
        "plt.yticks(tick_marks, np.unique(y))\n",
        "plt.xlabel('Predicted Label')\n",
        "plt.ylabel('True Label')\n",
        "\n",
        "# Plotting samples\n",
        "plt.subplot(1, 2, 2)\n",
        "plt.scatter(X[:, 0], X[:, 1], c=y, cmap=plt.cm.coolwarm, edgecolor='k', s=50)\n",
        "plt.title('Data points')\n",
        "plt.xlabel('Feature 1')\n",
        "plt.ylabel('Feature 2')\n",
        "\n",
        "plt.tight_layout()\n",
        "plt.show()\n",
        "\n",
        "# Printing accuracy\n",
        "print(\"Accuracy:\", accuracy)"
      ],
      "metadata": {
        "colab": {
          "base_uri": "https://localhost:8080/",
          "height": 426
        },
        "id": "NXqRZ-atzvIc",
        "outputId": "5dacc66c-6af0-4bd8-bad3-c00abbcb7930"
      },
      "execution_count": 51,
      "outputs": [
        {
          "output_type": "display_data",
          "data": {
            "text/plain": [
              "<Figure size 1000x400 with 3 Axes>"
            ],
            "image/png": "[encoded data removed]"
          },
          "metadata": {}
        },
        {
          "output_type": "stream",
          "name": "stdout",
          "text": [
            "Accuracy: 0.5\n"
          ]
        }
      ]
    },
    {
      "cell_type": "code",
      "source": [
        "model_=GaussianNB()\n",
        "model_.fit(X,y)"
      ],
      "metadata": {
        "id": "EP4N4B4nytLC"
      },
      "execution_count": null,
      "outputs": []
    },
    {
      "cell_type": "code",
      "source": [
        "new_data = np.array([[2.5, 3.5], [4.5, 5.5]])\n",
        "\n",
        "# Make predictions\n",
        "predictions = model_.predict(new_data)\n",
        "\n",
        "print(\"Predictions:\", predictions)"
      ],
      "metadata": {
        "colab": {
          "base_uri": "https://localhost:8080/"
        },
        "id": "fvqyO5C1sIEP",
        "outputId": "743b1bb5-dd2c-42a6-ec69-a732192a1017"
      },
      "execution_count": 53,
      "outputs": [
        {
          "output_type": "stream",
          "name": "stdout",
          "text": [
            "Predictions: [0 1]\n"
          ]
        }
      ]
    },
    {
      "cell_type": "code",
      "source": [
        "# Veri setini eğitim ve doğrulama setlerine ayırma\n",
        "X_train, X_val, y_train, y_val = train_test_split(X, y, test_size=0.2, random_state=42)\n",
        "\n",
        "# Modeli eğitim setiyle eğitme\n",
        "model_.fit(X_train, y_train)\n",
        "\n",
        "# Doğrulama seti üzerinde tahmin yapma\n",
        "y_pred = model_.predict(X_val)\n",
        "\n",
        "# Başarı metriklerini hesaplama\n",
        "accuracy = accuracy_score(y_val, y_pred)\n",
        "conf_matrix = confusion_matrix(y_val, y_pred)\n",
        "\n",
        "print(\"Accuracy:\", accuracy)\n",
        "print(\"Confusion Matrix:\\n\", conf_matrix)"
      ],
      "metadata": {
        "colab": {
          "base_uri": "https://localhost:8080/"
        },
        "id": "hS9_57ussRTP",
        "outputId": "23a3a7f8-b8dd-465c-c655-279ff04052a0"
      },
      "execution_count": 54,
      "outputs": [
        {
          "output_type": "stream",
          "name": "stdout",
          "text": [
            "Accuracy: 0.5\n",
            "Confusion Matrix:\n",
            " [[1 0]\n",
            " [1 0]]\n"
          ]
        }
      ]
    },
    {
      "cell_type": "code",
      "source": [
        "# Plotting the results\n",
        "plt.figure(figsize=(10, 4))\n",
        "\n",
        "# Plotting confusion matrix\n",
        "plt.subplot(1, 2, 1)\n",
        "plt.imshow(conf_matrix, interpolation='nearest', cmap=plt.cm.Blues)\n",
        "plt.title('Confusion Matrix')\n",
        "plt.colorbar()\n",
        "tick_marks = np.arange(len(np.unique(y)))\n",
        "plt.xticks(tick_marks, np.unique(y), rotation=45)\n",
        "plt.yticks(tick_marks, np.unique(y))\n",
        "plt.xlabel('Predicted Label')\n",
        "plt.ylabel('True Label')\n",
        "\n",
        "# Plotting samples\n",
        "plt.subplot(1, 2, 2)\n",
        "plt.scatter(X[:, 0], X[:, 1], c=y, cmap=plt.cm.coolwarm, edgecolor='k', s=50)\n",
        "plt.title('Data points')\n",
        "plt.xlabel('Feature 1')\n",
        "plt.ylabel('Feature 2')\n",
        "\n",
        "plt.tight_layout()\n",
        "plt.show()\n",
        "\n",
        "# Printing accuracy\n",
        "print(\"Accuracy:\", accuracy)"
      ],
      "metadata": {
        "colab": {
          "base_uri": "https://localhost:8080/",
          "height": 426
        },
        "id": "EZl0-pwOsW7L",
        "outputId": "3af9e427-cbc4-4444-bba8-a09bbd273f70"
      },
      "execution_count": null,
      "outputs": [
        {
          "output_type": "display_data",
          "data": {
            "text/plain": [
              "<Figure size 1000x400 with 3 Axes>"
            ],
            "image/png": "[encoded data removed]"
          },
          "metadata": {}
        },
        {
          "output_type": "stream",
          "name": "stdout",
          "text": [
            "Accuracy: 0.5\n"
          ]
        }
      ]
    },
    {
      "cell_type": "markdown",
      "source": [
        "hazır kütüphane ile de kontrol ettim her iki sonuçta da aynı çıkması yöntemin doğruluğunu kanıtlıyor."
      ],
      "metadata": {
        "id": "5_RNWr_rzdSa"
      }
    }
  ]
}