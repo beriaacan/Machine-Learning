{
 "cells": [
  {
   "cell_type": "code",
   "execution_count": 29,
   "id": "1913e105",
   "metadata": {},
   "outputs": [],
   "source": [
    "import numpy as np\n",
    "from scipy import stats"
   ]
  },
  {
   "cell_type": "code",
   "execution_count": null,
   "id": "9eead68f",
   "metadata": {},
   "outputs": [],
   "source": [
    "#https://github.com/scikit-learn/scikit-learn/blob/093e0cf14/sklearn/neighbors/_classification.py#L35\n",
    "\n",
    "#>>> X = [[0], [1], [2], [3]]\n",
    "#>>> y = [0, 0, 1, 1]\n",
    "#>>> from sklearn.neighbors import KNeighborsClassifier\n",
    "#>>> neigh = KNeighborsClassifier(n_neighbors=3)\n",
    "#>>> neigh.fit(X, y)\n",
    "#    KNeighborsClassifier(...)\n",
    "#>>> print(neigh.predict([[1.1]]))\n",
    "#    [0]"
   ]
  },
  {
   "cell_type": "code",
   "execution_count": 30,
   "id": "2ae77c57",
   "metadata": {},
   "outputs": [],
   "source": [
    "# distance metric\n",
    "def euclidean_distance(x1, x2):\n",
    "    distance = np.sqrt(np.sum((np.array(x1)-np.array(x2))**2))\n",
    "    return distance\n",
    "\n",
    "def minkowski_distance(x1, x2, p=2):\n",
    "    distance = (np.sum((np.array(x1)-np.array(x2))**p))**(1/p)\n",
    "    return distance"
   ]
  },
  {
   "cell_type": "code",
   "execution_count": 62,
   "id": "c380c0d6",
   "metadata": {},
   "outputs": [],
   "source": [
    "class KNeighborsClassifier:\n",
    "    # initiate\n",
    "    def __init__(self, k=5):\n",
    "        self.k = k\n",
    "        \n",
    "    # fit function\n",
    "    def fit(self, X, y):\n",
    "        self.X_train = X\n",
    "        self.y_train = y\n",
    "    \n",
    "    # predict function\n",
    "    def predict(self, x):\n",
    "        labels = []\n",
    "        for value in x:\n",
    "            distances = [euclidean_distance(value, X_train) for X_train in self.X_train]\n",
    "            k_inds = np.argsort(distances)[:self.k]\n",
    "            print(\"k indices:\", k_inds)\n",
    "            classes_k = [self.y_train[i] for i in k_inds]\n",
    "            mode = stats.mode(classes_k)\n",
    "            labels.append(mode[0])\n",
    "        return labels   "
   ]
  },
  {
   "cell_type": "code",
   "execution_count": 63,
   "id": "f51dec92",
   "metadata": {},
   "outputs": [],
   "source": [
    "# training points\n",
    "X = [[0], [1], [2], [3]]\n",
    "y = [0, 0, 1, 1]\n",
    "\n",
    "# test point\n",
    "point = [[1.1]]"
   ]
  },
  {
   "cell_type": "code",
   "execution_count": 64,
   "id": "369dbf42",
   "metadata": {},
   "outputs": [
    {
     "name": "stdout",
     "output_type": "stream",
     "text": [
      "k indices: [1 2 0]\n",
      "[0]\n"
     ]
    }
   ],
   "source": [
    "neigh = KNeighborsClassifier(k=3)\n",
    "neigh.fit(X, y)\n",
    "print(neigh.predict(point))"
   ]
  },
  {
   "cell_type": "code",
   "execution_count": null,
   "id": "348f6234",
   "metadata": {},
   "outputs": [],
   "source": []
  }
 ],
 "metadata": {
  "kernelspec": {
   "display_name": "Python 3 (ipykernel)",
   "language": "python",
   "name": "python3"
  },
  "language_info": {
   "codemirror_mode": {
    "name": "ipython",
    "version": 3
   },
   "file_extension": ".py",
   "mimetype": "text/x-python",
   "name": "python",
   "nbconvert_exporter": "python",
   "pygments_lexer": "ipython3",
   "version": "3.11.5"
  }
 },
 "nbformat": 4,
 "nbformat_minor": 5
}
